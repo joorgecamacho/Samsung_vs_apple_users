{
 "cells": [
  {
   "cell_type": "markdown",
   "metadata": {},
   "source": [
    "# Comparing iPhone and Samunsung J series users"
   ]
  },
  {
   "cell_type": "code",
   "execution_count": 35,
   "metadata": {},
   "outputs": [],
   "source": [
    "import pandas as pd\n",
    "import numpy as np\n",
    "import seaborn as sns\n",
    "import matplotlib.pyplot as plt\n",
    "import datetime\n",
    "import sklearn\n",
    "\n",
    "from matplotlib import pyplot\n",
    "from sklearn.preprocessing import StandardScaler\n",
    "from sklearn.preprocessing import Normalizer\n",
    "from sklearn.preprocessing import MinMaxScaler\n",
    "from numpy import array\n",
    "from numpy import argmax\n",
    "from sklearn.preprocessing import LabelEncoder\n",
    "from sklearn.preprocessing import OneHotEncoder\n",
    "from sklearn.model_selection import train_test_split\n",
    "\n"
   ]
  },
  {
   "cell_type": "markdown",
   "metadata": {},
   "source": [
    "I am going to study the differences between Iphone and Samsung J series users. First I will create two different dataframes, one with all the rows from iPhone users and the other one with all the rows of J series users. First I am going to decide which rows should be dropped in case of having NaN values.\n",
    "\n",
    "<font size=\"1\" color=\"gray\"></font>"
   ]
  },
  {
   "cell_type": "code",
   "execution_count": 36,
   "metadata": {},
   "outputs": [],
   "source": [
    "#We upload the database\n",
    "database = pd.read_csv(\"device_db.csv\", sep=\",\")"
   ]
  },
  {
   "cell_type": "markdown",
   "metadata": {},
   "source": [
    "If there is no data in \"PURCHASED_DEVICE\" or \"DEVICE_VALUE\" we remove those cells. If \"DATA_TRAFFIC_MONTH_(1..6)\", \"VOICE_TRAFFIC_MONTH_(1..6)\", \"BILLING_MONTH_(1..6)\", or \"DEVICE_COST_MONTH_(1..6)\" have NaN values we will consider them to be 0.\n",
    "<font size=\"1\" color=\"white\"></font>"
   ]
  },
  {
   "cell_type": "code",
   "execution_count": 37,
   "metadata": {},
   "outputs": [],
   "source": [
    "#Now i will drop and fill the rows just explained.\n",
    "data_traffic = [col for col in clear_db.columns if (\"DATA_TRAFFIC\" in col) ]\n",
    "voice_traffic = [col for col in clear_db.columns if (\"VOICE_TRAFFIC\" in col) ]\n",
    "billing_month = [col for col in clear_db.columns if (\"BILLING_MONTH\" in col) ]\n",
    "device_cost = [col for col in clear_db.columns if (\"DEVICE_COST\" in col) ]\n",
    "columns_to_clear = data_traffic + voice_traffic + billing_month + device_cost\n",
    "\n",
    "clear_db = database\n",
    "\n",
    "for col in database.columns:\n",
    "    if col in columns_to_clear: \n",
    "        clear_db[col] = clear_db[col].fillna(0)\n",
    "\n",
    "clear_db = clear_db.dropna(subset=['PURCHASED_DEVICE','DEVICE_VALUE'])\n",
    "database = clear_db"
   ]
  },
  {
   "cell_type": "markdown",
   "metadata": {},
   "source": [
    "Now that we have cleared the database I want to filter it into two databases. One for J series Samsung users and the other for iPhone users. Using the variable \"PURCHASED_DEVICE\" I am creating a function in order to transform the categorical value into a numerical one.\n",
    "<font size=\"1\" color=\"white\"></font>"
   ]
  },
  {
   "cell_type": "code",
   "execution_count": 38,
   "metadata": {},
   "outputs": [],
   "source": [
    "def extract_brand(device_name):\n",
    "    # Splitting the string by underscore\n",
    "    parts = device_name.split('_')\n",
    "    # Checking if the second part contains \"Samsung\" or \"iPhone\"\n",
    "    if len(parts) > 1:\n",
    "        if \"SAMSUNG\" in parts[1]:\n",
    "            return 1\n",
    "        elif \"APPLE\" in parts[1]:\n",
    "            return 2\n",
    "        else: return 0"
   ]
  },
  {
   "cell_type": "markdown",
   "metadata": {},
   "source": [
    "I add a column to the dataframe with the numerical version of \"PURCHASED_DEVICE\".\n",
    "<font size=\"1\" color=\"black\"></font>"
   ]
  },
  {
   "cell_type": "code",
   "execution_count": 39,
   "metadata": {},
   "outputs": [
    {
     "data": {
      "text/plain": [
       "0       0\n",
       "1       0\n",
       "2       0\n",
       "3       0\n",
       "4       0\n",
       "       ..\n",
       "9995    0\n",
       "9996    0\n",
       "9997    0\n",
       "9998    0\n",
       "9999    0\n",
       "Name: brand_code, Length: 9690, dtype: int64"
      ]
     },
     "execution_count": 39,
     "metadata": {},
     "output_type": "execute_result"
    }
   ],
   "source": [
    "brand_code = []\n",
    "for name in database[\"PURCHASED_DEVICE\"]:\n",
    "    #print(name)\n",
    "    brand = extract_brand(str(name))\n",
    "    brand_code.append(brand)\n",
    " "
   ]
  },
  {
   "cell_type": "markdown",
   "metadata": {},
   "source": [
    "If the brand code of the row is 1 we add the row to the samsung users dataframe, and if it has a 2 to the Apple user dataframe.\n"
   ]
  },
  {
   "cell_type": "code",
   "execution_count": 40,
   "metadata": {},
   "outputs": [],
   "source": [
    "samsung_users =pd.DataFrame(columns=database.columns)\n",
    "apple_users =pd.DataFrame(columns=database.columns)\n",
    "samsung_users = database[database[\"brand_code\"] == 1]\n",
    "apple_users = database[database[\"brand_code\"] == 2]"
   ]
  },
  {
   "cell_type": "markdown",
   "metadata": {},
   "source": [
    "Now that we have samsung and apple users are separated we can proceed to compare their data. I will study 2 different topics to compare them between the 2 groups. I will make a device analysis using 'DEVICE_VALUE' and 'DEVICE_COST_MONTH_,  and a Traffic analysis using DATA_TRAFFIC_MONTH_1'. I will compare their distributions and descriptive statistics and make data visualtization.\n"
   ]
  },
  {
   "cell_type": "markdown",
   "metadata": {},
   "source": [
    "## Study of the Device value and cost/moth in Samsung J series users vs iPhone users\n"
   ]
  },
  {
   "cell_type": "code",
   "execution_count": 53,
   "metadata": {},
   "outputs": [
    {
     "data": {
      "text/html": [
       "<div>\n",
       "<style scoped>\n",
       "    .dataframe tbody tr th:only-of-type {\n",
       "        vertical-align: middle;\n",
       "    }\n",
       "\n",
       "    .dataframe tbody tr th {\n",
       "        vertical-align: top;\n",
       "    }\n",
       "\n",
       "    .dataframe thead th {\n",
       "        text-align: right;\n",
       "    }\n",
       "</style>\n",
       "<table border=\"1\" class=\"dataframe\">\n",
       "  <thead>\n",
       "    <tr style=\"text-align: right;\">\n",
       "      <th></th>\n",
       "      <th>DEVICE_VALUE</th>\n",
       "      <th>DEVICE_COST_MONTH_1</th>\n",
       "      <th>DEVICE_COST_MONTH_2</th>\n",
       "      <th>DEVICE_COST_MONTH_3</th>\n",
       "      <th>DEVICE_COST_MONTH_4</th>\n",
       "      <th>DEVICE_COST_MONTH_5</th>\n",
       "      <th>DEVICE_COST_MONTH_6</th>\n",
       "    </tr>\n",
       "  </thead>\n",
       "  <tbody>\n",
       "    <tr>\n",
       "      <th>count</th>\n",
       "      <td>1747.000000</td>\n",
       "      <td>1747.00000</td>\n",
       "      <td>1747.000000</td>\n",
       "      <td>1747.000000</td>\n",
       "      <td>1747.000000</td>\n",
       "      <td>1747.000000</td>\n",
       "      <td>1747.000000</td>\n",
       "    </tr>\n",
       "    <tr>\n",
       "      <th>mean</th>\n",
       "      <td>1054.468231</td>\n",
       "      <td>13.26166</td>\n",
       "      <td>9.264568</td>\n",
       "      <td>11.769101</td>\n",
       "      <td>10.950177</td>\n",
       "      <td>11.861723</td>\n",
       "      <td>12.009038</td>\n",
       "    </tr>\n",
       "    <tr>\n",
       "      <th>std</th>\n",
       "      <td>1006.502981</td>\n",
       "      <td>157.24796</td>\n",
       "      <td>26.494162</td>\n",
       "      <td>65.212590</td>\n",
       "      <td>27.701845</td>\n",
       "      <td>40.618728</td>\n",
       "      <td>29.761351</td>\n",
       "    </tr>\n",
       "    <tr>\n",
       "      <th>min</th>\n",
       "      <td>44.000000</td>\n",
       "      <td>0.00000</td>\n",
       "      <td>0.000000</td>\n",
       "      <td>0.000000</td>\n",
       "      <td>0.000000</td>\n",
       "      <td>0.000000</td>\n",
       "      <td>0.000000</td>\n",
       "    </tr>\n",
       "    <tr>\n",
       "      <th>25%</th>\n",
       "      <td>489.000000</td>\n",
       "      <td>0.00000</td>\n",
       "      <td>0.000000</td>\n",
       "      <td>0.000000</td>\n",
       "      <td>0.000000</td>\n",
       "      <td>0.000000</td>\n",
       "      <td>0.000000</td>\n",
       "    </tr>\n",
       "    <tr>\n",
       "      <th>50%</th>\n",
       "      <td>609.000000</td>\n",
       "      <td>0.00000</td>\n",
       "      <td>0.000000</td>\n",
       "      <td>0.000000</td>\n",
       "      <td>0.000000</td>\n",
       "      <td>0.000000</td>\n",
       "      <td>0.000000</td>\n",
       "    </tr>\n",
       "    <tr>\n",
       "      <th>75%</th>\n",
       "      <td>1065.000000</td>\n",
       "      <td>7.00000</td>\n",
       "      <td>9.000000</td>\n",
       "      <td>12.000000</td>\n",
       "      <td>12.000000</td>\n",
       "      <td>12.000000</td>\n",
       "      <td>13.000000</td>\n",
       "    </tr>\n",
       "    <tr>\n",
       "      <th>max</th>\n",
       "      <td>6033.000000</td>\n",
       "      <td>6440.00000</td>\n",
       "      <td>366.000000</td>\n",
       "      <td>2466.000000</td>\n",
       "      <td>258.750000</td>\n",
       "      <td>1258.000000</td>\n",
       "      <td>265.370000</td>\n",
       "    </tr>\n",
       "  </tbody>\n",
       "</table>\n",
       "</div>"
      ],
      "text/plain": [
       "       DEVICE_VALUE  DEVICE_COST_MONTH_1  DEVICE_COST_MONTH_2  \\\n",
       "count   1747.000000           1747.00000          1747.000000   \n",
       "mean    1054.468231             13.26166             9.264568   \n",
       "std     1006.502981            157.24796            26.494162   \n",
       "min       44.000000              0.00000             0.000000   \n",
       "25%      489.000000              0.00000             0.000000   \n",
       "50%      609.000000              0.00000             0.000000   \n",
       "75%     1065.000000              7.00000             9.000000   \n",
       "max     6033.000000           6440.00000           366.000000   \n",
       "\n",
       "       DEVICE_COST_MONTH_3  DEVICE_COST_MONTH_4  DEVICE_COST_MONTH_5  \\\n",
       "count          1747.000000          1747.000000          1747.000000   \n",
       "mean             11.769101            10.950177            11.861723   \n",
       "std              65.212590            27.701845            40.618728   \n",
       "min               0.000000             0.000000             0.000000   \n",
       "25%               0.000000             0.000000             0.000000   \n",
       "50%               0.000000             0.000000             0.000000   \n",
       "75%              12.000000            12.000000            12.000000   \n",
       "max            2466.000000           258.750000          1258.000000   \n",
       "\n",
       "       DEVICE_COST_MONTH_6  \n",
       "count          1747.000000  \n",
       "mean             12.009038  \n",
       "std              29.761351  \n",
       "min               0.000000  \n",
       "25%               0.000000  \n",
       "50%               0.000000  \n",
       "75%              13.000000  \n",
       "max             265.370000  "
      ]
     },
     "execution_count": 53,
     "metadata": {},
     "output_type": "execute_result"
    }
   ],
   "source": [
    "columns = [\"DEVICE_VALUE\"] +[col for col in clear_db.columns if (\"DEVICE_COST\" in col) ]\n",
    "samsung_users[columns].describe()"
   ]
  },
  {
   "cell_type": "code",
   "execution_count": 54,
   "metadata": {},
   "outputs": [
    {
     "data": {
      "text/plain": [
       "<Axes: xlabel='DEVICE_VALUE', ylabel='Count'>"
      ]
     },
     "execution_count": 54,
     "metadata": {},
     "output_type": "execute_result"
    },
    {
     "data": {
      "image/png": "[encoded data removed]",
      "text/plain": [
       "<Figure size 640x480 with 1 Axes>"
      ]
     },
     "metadata": {},
     "output_type": "display_data"
    }
   ],
   "source": [
    "sns.histplot(samsung_users, x = \"DEVICE_VALUE\", kde = False, alpha = 1, label = \" Samsung Device Value\")"
   ]
  },
  {
   "cell_type": "code",
   "execution_count": 65,
   "metadata": {},
   "outputs": [
    {
     "name": "stderr",
     "output_type": "stream",
     "text": [
      "C:\\Users\\Jorge\\AppData\\Local\\Temp\\ipykernel_17808\\2755598131.py:1: SettingWithCopyWarning: \n",
      "A value is trying to be set on a copy of a slice from a DataFrame.\n",
      "Try using .loc[row_indexer,col_indexer] = value instead\n",
      "\n",
      "See the caveats in the documentation: https://pandas.pydata.org/pandas-docs/stable/user_guide/indexing.html#returning-a-view-versus-a-copy\n",
      "  samsung_users[\"total_DEVICE_VALUE\"] = samsung_users[[col for col in clear_db.columns if (\"DEVICE_COST\" in col) ]].sum(axis=1)\n"
     ]
    },
    {
     "data": {
      "text/plain": [
       "count    1747.000000\n",
       "mean       69.116268\n",
       "std       247.584366\n",
       "min         0.000000\n",
       "25%         0.000000\n",
       "50%         0.000000\n",
       "75%        72.000000\n",
       "max      7544.000000\n",
       "Name: total_DEVICE_VALUE, dtype: float64"
      ]
     },
     "execution_count": 65,
     "metadata": {},
     "output_type": "execute_result"
    }
   ],
   "source": [
    "samsung_users[\"total_DEVICE_VALUE\"] = samsung_users[[col for col in clear_db.columns if (\"DEVICE_COST\" in col) ]].sum(axis=1)\n",
    "samsung_users[\"total_DEVICE_VALUE\"].describe()"
   ]
  },
  {
   "cell_type": "code",
   "execution_count": 52,
   "metadata": {},
   "outputs": [
    {
     "data": {
      "text/html": [
       "<div>\n",
       "<style scoped>\n",
       "    .dataframe tbody tr th:only-of-type {\n",
       "        vertical-align: middle;\n",
       "    }\n",
       "\n",
       "    .dataframe tbody tr th {\n",
       "        vertical-align: top;\n",
       "    }\n",
       "\n",
       "    .dataframe thead th {\n",
       "        text-align: right;\n",
       "    }\n",
       "</style>\n",
       "<table border=\"1\" class=\"dataframe\">\n",
       "  <thead>\n",
       "    <tr style=\"text-align: right;\">\n",
       "      <th></th>\n",
       "      <th>DEVICE_VALUE</th>\n",
       "      <th>DEVICE_COST_MONTH_1</th>\n",
       "      <th>DEVICE_COST_MONTH_2</th>\n",
       "      <th>DEVICE_COST_MONTH_3</th>\n",
       "      <th>DEVICE_COST_MONTH_4</th>\n",
       "      <th>DEVICE_COST_MONTH_5</th>\n",
       "      <th>DEVICE_COST_MONTH_6</th>\n",
       "    </tr>\n",
       "  </thead>\n",
       "  <tbody>\n",
       "    <tr>\n",
       "      <th>count</th>\n",
       "      <td>660.000000</td>\n",
       "      <td>660.000000</td>\n",
       "      <td>660.000000</td>\n",
       "      <td>660.000000</td>\n",
       "      <td>660.000000</td>\n",
       "      <td>660.000000</td>\n",
       "      <td>660.000000</td>\n",
       "    </tr>\n",
       "    <tr>\n",
       "      <th>mean</th>\n",
       "      <td>3552.806061</td>\n",
       "      <td>19.276455</td>\n",
       "      <td>20.391788</td>\n",
       "      <td>21.483303</td>\n",
       "      <td>22.835939</td>\n",
       "      <td>24.039455</td>\n",
       "      <td>24.367091</td>\n",
       "    </tr>\n",
       "    <tr>\n",
       "      <th>std</th>\n",
       "      <td>1273.911899</td>\n",
       "      <td>48.649999</td>\n",
       "      <td>49.546103</td>\n",
       "      <td>50.604150</td>\n",
       "      <td>52.000999</td>\n",
       "      <td>53.228301</td>\n",
       "      <td>53.505257</td>\n",
       "    </tr>\n",
       "    <tr>\n",
       "      <th>min</th>\n",
       "      <td>1305.000000</td>\n",
       "      <td>0.000000</td>\n",
       "      <td>0.000000</td>\n",
       "      <td>0.000000</td>\n",
       "      <td>0.000000</td>\n",
       "      <td>0.000000</td>\n",
       "      <td>0.000000</td>\n",
       "    </tr>\n",
       "    <tr>\n",
       "      <th>25%</th>\n",
       "      <td>2682.000000</td>\n",
       "      <td>0.000000</td>\n",
       "      <td>0.000000</td>\n",
       "      <td>0.000000</td>\n",
       "      <td>0.000000</td>\n",
       "      <td>0.000000</td>\n",
       "      <td>0.000000</td>\n",
       "    </tr>\n",
       "    <tr>\n",
       "      <th>50%</th>\n",
       "      <td>3245.000000</td>\n",
       "      <td>0.000000</td>\n",
       "      <td>0.000000</td>\n",
       "      <td>0.000000</td>\n",
       "      <td>0.000000</td>\n",
       "      <td>0.000000</td>\n",
       "      <td>0.000000</td>\n",
       "    </tr>\n",
       "    <tr>\n",
       "      <th>75%</th>\n",
       "      <td>4233.000000</td>\n",
       "      <td>7.000000</td>\n",
       "      <td>9.250000</td>\n",
       "      <td>12.000000</td>\n",
       "      <td>12.000000</td>\n",
       "      <td>13.000000</td>\n",
       "      <td>13.000000</td>\n",
       "    </tr>\n",
       "    <tr>\n",
       "      <th>max</th>\n",
       "      <td>9057.000000</td>\n",
       "      <td>411.000000</td>\n",
       "      <td>411.000000</td>\n",
       "      <td>411.000000</td>\n",
       "      <td>411.000000</td>\n",
       "      <td>411.000000</td>\n",
       "      <td>411.000000</td>\n",
       "    </tr>\n",
       "  </tbody>\n",
       "</table>\n",
       "</div>"
      ],
      "text/plain": [
       "       DEVICE_VALUE  DEVICE_COST_MONTH_1  DEVICE_COST_MONTH_2  \\\n",
       "count    660.000000           660.000000           660.000000   \n",
       "mean    3552.806061            19.276455            20.391788   \n",
       "std     1273.911899            48.649999            49.546103   \n",
       "min     1305.000000             0.000000             0.000000   \n",
       "25%     2682.000000             0.000000             0.000000   \n",
       "50%     3245.000000             0.000000             0.000000   \n",
       "75%     4233.000000             7.000000             9.250000   \n",
       "max     9057.000000           411.000000           411.000000   \n",
       "\n",
       "       DEVICE_COST_MONTH_3  DEVICE_COST_MONTH_4  DEVICE_COST_MONTH_5  \\\n",
       "count           660.000000           660.000000           660.000000   \n",
       "mean             21.483303            22.835939            24.039455   \n",
       "std              50.604150            52.000999            53.228301   \n",
       "min               0.000000             0.000000             0.000000   \n",
       "25%               0.000000             0.000000             0.000000   \n",
       "50%               0.000000             0.000000             0.000000   \n",
       "75%              12.000000            12.000000            13.000000   \n",
       "max             411.000000           411.000000           411.000000   \n",
       "\n",
       "       DEVICE_COST_MONTH_6  \n",
       "count           660.000000  \n",
       "mean             24.367091  \n",
       "std              53.505257  \n",
       "min               0.000000  \n",
       "25%               0.000000  \n",
       "50%               0.000000  \n",
       "75%              13.000000  \n",
       "max             411.000000  "
      ]
     },
     "execution_count": 52,
     "metadata": {},
     "output_type": "execute_result"
    }
   ],
   "source": [
    "columns = [\"DEVICE_VALUE\"] +[col for col in clear_db.columns if (\"DEVICE_COST\" in col) ]\n",
    "apple_users[columns].describe()"
   ]
  },
  {
   "cell_type": "code",
   "execution_count": 55,
   "metadata": {},
   "outputs": [
    {
     "data": {
      "text/plain": [
       "<Axes: xlabel='DEVICE_VALUE', ylabel='Count'>"
      ]
     },
     "execution_count": 55,
     "metadata": {},
     "output_type": "execute_result"
    },
    {
     "data": {
      "image/png": "[encoded data removed]",
      "text/plain": [
       "<Figure size 640x480 with 1 Axes>"
      ]
     },
     "metadata": {},
     "output_type": "display_data"
    }
   ],
   "source": [
    "sns.histplot(apple_users, x = \"DEVICE_VALUE\", kde = False, alpha = 1, label = \" Samsung Device Value\")"
   ]
  },
  {
   "cell_type": "code",
   "execution_count": 66,
   "metadata": {},
   "outputs": [
    {
     "name": "stderr",
     "output_type": "stream",
     "text": [
      "C:\\Users\\Jorge\\AppData\\Local\\Temp\\ipykernel_17808\\2983268841.py:1: SettingWithCopyWarning: \n",
      "A value is trying to be set on a copy of a slice from a DataFrame.\n",
      "Try using .loc[row_indexer,col_indexer] = value instead\n",
      "\n",
      "See the caveats in the documentation: https://pandas.pydata.org/pandas-docs/stable/user_guide/indexing.html#returning-a-view-versus-a-copy\n",
      "  apple_users[\"total_DEVICE_VALUE\"] = apple_users[[col for col in clear_db.columns if (\"DEVICE_COST\" in col) ]].sum(axis=1)\n"
     ]
    },
    {
     "data": {
      "text/plain": [
       "count     660.000000\n",
       "mean      132.394030\n",
       "std       298.072744\n",
       "min         0.000000\n",
       "25%         0.000000\n",
       "50%         0.000000\n",
       "75%        72.000000\n",
       "max      2466.000000\n",
       "Name: total_DEVICE_VALUE, dtype: float64"
      ]
     },
     "execution_count": 66,
     "metadata": {},
     "output_type": "execute_result"
    }
   ],
   "source": [
    "apple_users[\"total_DEVICE_VALUE\"] = apple_users[[col for col in clear_db.columns if (\"DEVICE_COST\" in col) ]].sum(axis=1)\n",
    "apple_users[\"total_DEVICE_VALUE\"].describe()"
   ]
  }
 ],
 "metadata": {
  "kernelspec": {
   "display_name": "Python 3",
   "language": "python",
   "name": "python3"
  },
  "language_info": {
   "codemirror_mode": {
    "name": "ipython",
    "version": 3
   },
   "file_extension": ".py",
   "mimetype": "text/x-python",
   "name": "python",
   "nbconvert_exporter": "python",
   "pygments_lexer": "ipython3",
   "version": "3.10.11"
  }
 },
 "nbformat": 4,
 "nbformat_minor": 2
}
