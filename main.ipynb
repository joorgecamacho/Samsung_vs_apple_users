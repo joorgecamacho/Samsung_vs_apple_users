{
 "cells": [
  {
   "cell_type": "code",
   "execution_count": null,
   "metadata": {},
   "outputs": [],
   "source": [
    "import pandas as pd\n",
    "import numpy as np\n",
    "import seaborn as sns\n",
    "import matplotlib.pyplot as plt\n",
    "import datetime\n",
    "import sklearn\n",
    "\n",
    "from matplotlib import pyplot\n",
    "from sklearn.preprocessing import StandardScaler\n",
    "from sklearn.preprocessing import Normalizer\n",
    "from sklearn.preprocessing import MinMaxScaler\n",
    "from numpy import array\n",
    "from numpy import argmax\n",
    "from sklearn.preprocessing import LabelEncoder\n",
    "from sklearn.preprocessing import OneHotEncoder\n",
    "from sklearn.model_selection import train_test_split\n",
    "\n"
   ]
  },
  {
   "cell_type": "code",
   "execution_count": null,
   "metadata": {},
   "outputs": [],
   "source": [
    "input_dataset = pd.read_csv(\"device_db.csv\", sep=\",\")"
   ]
  },
  {
   "cell_type": "code",
   "execution_count": null,
   "metadata": {},
   "outputs": [],
   "source": [
    "print(input_dataset.columns)\n",
    "\n",
    "print(input_dataset.tail())"
   ]
  },
  {
   "cell_type": "code",
   "execution_count": null,
   "metadata": {},
   "outputs": [],
   "source": [
    "print(input_dataset[\"BILLING_MONTH_1\"].dtype, input_dataset[\"BILLING_MONTH_1\"].nunique())"
   ]
  },
  {
   "cell_type": "code",
   "execution_count": null,
   "metadata": {},
   "outputs": [],
   "source": [
    "# Initialize an empty list to store column information\n",
    "column_info = []\n",
    "\n",
    "# Iterate through the columns of the DataFrame\n",
    "for column in input_dataset.columns:\n",
    "    column_info.append([column, input_dataset[column].dtype, input_dataset[column].nunique()])\n",
    "\n",
    "# Create DataFrame from the list of column information\n",
    "column_type_df = pd.DataFrame(column_info, columns=['Column Name', 'Column Type', 'Distinct Elements'])\n",
    "\n",
    "print(column_type_df)"
   ]
  },
  {
   "cell_type": "code",
   "execution_count": null,
   "metadata": {},
   "outputs": [],
   "source": [
    "# I first created an empty list to store the column statistics\n",
    "\n",
    "column_stats = []\n",
    "\n",
    "for columns in input_dataset.columns:\n",
    "    if input_dataset[columns].dtype == 'float64':\n",
    "        column_mean = input_dataset[columns].mean()\n",
    "        column_median = input_dataset[columns].median()\n",
    "        column_std = input_dataset[columns].std()\n",
    "        column_min = input_dataset[columns].min()\n",
    "        column_max = input_dataset[columns].max()\n",
    "\n",
    "        column_stats.append([columns, column_mean, column_median, column_std, column_min, column_max])\n",
    "\n",
    "stats_df = pd.DataFrame(column_stats, columns=['Column Name', 'Column Mean', 'Median', 'Column Standard Deviation', 'Column Minimum', 'Column Maximum'])\n",
    "print(stats_df)"
   ]
  },
  {
   "cell_type": "code",
   "execution_count": null,
   "metadata": {},
   "outputs": [],
   "source": [
    "for columns in input_dataset.columns:\n",
    "    describe = input_dataset[columns].describe()\n",
    "    print(describe)"
   ]
  },
  {
   "cell_type": "code",
   "execution_count": null,
   "metadata": {},
   "outputs": [],
   "source": [
    "stats_df1 = input_dataset.describe()\n",
    "stats_df1"
   ]
  },
  {
   "cell_type": "markdown",
   "metadata": {},
   "source": [
    "First method\n",
    "name:DEVICE_COST_MONTH_1\n",
    "mean: 1.080778e+01\n",
    "median: 0.000000e+00\n",
    "std: 75.834602\n",
    "min: 0.00\n",
    "max: 6.440000e+03\n",
    "\n",
    "DESCRIBE() method\n",
    "Name: DEVICE_COST_MONTH_1, dtype: float64\n",
    "count    9998.000000\n",
    "mean       10.587317\n",
    "std        36.995965\n",
    "min         0.000000\n",
    "25%         0.000000\n",
    "50%         0.000000\n",
    "75%         0.620000\n",
    "max      1360.000000\n",
    "\n",
    "The differences are: first the type of statistics we get. Second that there are a lot of statistical values that are different."
   ]
  },
  {
   "cell_type": "markdown",
   "metadata": {},
   "source": []
  },
  {
   "cell_type": "code",
   "execution_count": null,
   "metadata": {},
   "outputs": [],
   "source": [
    "stats_df1 = input_dataset[\"DEVICE_COST_MONTH_1\"].describe()\n",
    "stats_df1"
   ]
  },
  {
   "cell_type": "code",
   "execution_count": null,
   "metadata": {},
   "outputs": [],
   "source": [
    "column_mean = input_dataset[\"DEVICE_COST_MONTH_1\"].mean()\n",
    "column_median = input_dataset[\"DEVICE_COST_MONTH_1\"].median()\n",
    "column_std = input_dataset[\"DEVICE_COST_MONTH_1\"].std()\n",
    "column_min = input_dataset[\"DEVICE_COST_MONTH_1\"].min()\n",
    "column_max = input_dataset[\"DEVICE_COST_MONTH_1\"].max()\n",
    "print(column_mean, column_median, column_std, column_min, column_max)\n"
   ]
  },
  {
   "cell_type": "code",
   "execution_count": null,
   "metadata": {},
   "outputs": [],
   "source": [
    "previous_device_brand_census = input_dataset[\"PREVIOUS_DEVICE_BRAND\"].value_counts()\n",
    "print(previous_device_brand_census)\n",
    "previous_device_model_census = input_dataset[\"PREVIOUS_DEVICE_MODEL\"].value_counts()\n",
    "print(\"\\n\",previous_device_model_census)\n"
   ]
  },
  {
   "cell_type": "markdown",
   "metadata": {},
   "source": [
    "# 2.1"
   ]
  },
  {
   "cell_type": "code",
   "execution_count": null,
   "metadata": {},
   "outputs": [],
   "source": [
    "nan_counter= input_dataset.isna()\n",
    "nan_counter"
   ]
  },
  {
   "cell_type": "code",
   "execution_count": null,
   "metadata": {},
   "outputs": [],
   "source": [
    "input_dataset.info()\n",
    "input_dataset.dropna()"
   ]
  },
  {
   "cell_type": "code",
   "execution_count": null,
   "metadata": {},
   "outputs": [],
   "source": [
    "clear_db = input_dataset\n",
    "#for i in clear_db.columns:\n",
    "#clear_db.dropna(subset=['PURCHASED_DEVICE','DEVICE_VALUE','PREVIOUS_DEVICE_MODEL'])\n",
    "clear_db = clear_db.dropna(subset=['PURCHASED_DEVICE','DEVICE_VALUE','PREVIOUS_DEVICE_MODEL'])\n",
    "#pd.DataFrame(clear_db)\n",
    "clear_db.info()"
   ]
  },
  {
   "cell_type": "code",
   "execution_count": null,
   "metadata": {},
   "outputs": [],
   "source": [
    "data_traffic = [col for col in clear_db.columns if (\"DATA_TRAFFIC\" in col) ]\n",
    "voice_traffic = [col for col in clear_db.columns if (\"VOICE_TRAFFIC\" in col) ]\n",
    "billing_month = [col for col in clear_db.columns if (\"BILLING_MONTH\" in col) ]\n",
    "device_cost = [col for col in clear_db.columns if (\"DEVICE_COST\" in col) ]\n",
    "columns_to_clear = data_traffic + voice_traffic+billing_month+device_cost\n",
    "\n",
    "for col in clear_db.columns:\n",
    "    if col in columns_to_clear: \n",
    "        clear_db[col] = clear_db[col].fillna(0) \n",
    "clear_db.info()"
   ]
  },
  {
   "cell_type": "code",
   "execution_count": null,
   "metadata": {},
   "outputs": [],
   "source": [
    "print(input_dataset.shape)\n",
    "clear_db.shape\n"
   ]
  },
  {
   "cell_type": "markdown",
   "metadata": {},
   "source": [
    "# 2.2\n"
   ]
  },
  {
   "cell_type": "code",
   "execution_count": null,
   "metadata": {},
   "outputs": [],
   "source": [
    "variables = ['DEVICE_VALUE', 'VOICE_TRAFFIC_MONTH_1', 'VOICE_TRAFFIC_MONTH_2', 'VOICE_TRAFFIC_MONTH_3', 'BILLING_MONTH_2', 'DURATION_LINE']\n",
    "\n",
    "for var in variables:\n",
    "    sns.histplot(data=clear_db, x=var, kde=False, alpha=0.7, label=var)\n",
    "\n",
    "    # Adding labels and title\n",
    "    plt.xlabel('Value')\n",
    "    plt.ylabel('Frequency')\n",
    "    plt.title(var)\n",
    "    # Adding legend\n",
    "    plt.legend()\n",
    "    # Showing plot\n",
    "    plt.show()"
   ]
  },
  {
   "cell_type": "code",
   "execution_count": null,
   "metadata": {},
   "outputs": [],
   "source": [
    "#we transform the variable that is exponential\n",
    "clear_db['log_var'] = clear_db['VOICE_TRAFFIC_MONTH_2'].apply(lambda x: np.log(x+1))\n",
    "sns.histplot(data=clear_db, x='log_var', kde=False, alpha=0.7, label='VOICE_TRAFFIC_MONTH_2')\n",
    "\n",
    "# Adding labels and title\n",
    "plt.xlabel('Value')\n",
    "plt.ylabel('Frequency')\n",
    "plt.title('VOICE_TRAFFIC_MONTH_2')\n",
    "# Adding legend\n",
    "plt.legend()\n",
    "# Showing plot\n",
    "plt.show()"
   ]
  },
  {
   "cell_type": "code",
   "execution_count": null,
   "metadata": {},
   "outputs": [],
   "source": [
    "variables = [ 'VOICE_TRAFFIC_MONTH_2', 'DATA_TRAFFIC_MONTH_2', 'DURATION_LINE']\n",
    "\n",
    "for var in variables:\n",
    "    clear_db[var].plot( kind = 'box')\n",
    "\n",
    "    # Adding labels and title\n",
    "    plt.ylabel('Value')\n",
    "    plt.title(var)\n",
    "    # Adding legend\n",
    "    plt.legend()\n",
    "    # Showing plot\n",
    "    plt.show()"
   ]
  },
  {
   "cell_type": "code",
   "execution_count": null,
   "metadata": {},
   "outputs": [],
   "source": [
    "data_traffic = [col for col in clear_db.columns if (\"DATA_TRAFFIC\" in col) ]\n",
    "voice_traffic = [col for col in clear_db.columns if (\"VOICE_TRAFFIC\" in col) ]\n",
    "columns_to_clear = data_traffic + voice_traffic\n",
    "df = clear_db[columns_to_clear]\n",
    "#print(columns_to_cor)\n",
    "correlation_matrix = df.corr()\n",
    "print(correlation_matrix)\n",
    "plt.figure(figsize=(8, 6))\n",
    "plt.matshow(correlation_matrix, cmap='RdBu', fignum=1)\n",
    "plt.colorbar(label='Correlation')\n",
    "plt.xticks(np.arange(len(columns_to_clear)), columns_to_clear, rotation=45)\n",
    "plt.yticks(np.arange(len(columns_to_clear)), columns_to_clear)\n",
    "plt.title('Correlation Between Traffic Attributes, Duration Line, Billing, Device Cost, and Device Value')\n",
    "plt.show()"
   ]
  },
  {
   "cell_type": "markdown",
   "metadata": {},
   "source": [
    "# 2.4\n"
   ]
  },
  {
   "cell_type": "code",
   "execution_count": null,
   "metadata": {},
   "outputs": [],
   "source": [
    "from sklearn.preprocessing import StandardScaler\n",
    "\n",
    "std_data_traffic_m_1 = clear_db\n",
    "scaler = StandardScaler()\n",
    "\n",
    "# Extract the column and convert it into a 2D array-like object\n",
    "data_traffic_month_1 = clear_db[[\"DATA_TRAFFIC_MONTH_1\"]]\n",
    "scaler.fit(data_traffic_month_1)\n",
    "\n",
    "# Now, you can transform the column\n",
    "std_data_traffic_m_1[\"DATA_TRAFFIC_MONTH_1\"] = scaler.transform(data_traffic_month_1)\n",
    "#rint(std_data_traffic_m_1[\"DATA_TRAFFIC_MONTH_1\"])\n",
    "std_data_traffic_m_1[\"DATA_TRAFFIC_MONTH_1\"].describe()"
   ]
  },
  {
   "cell_type": "code",
   "execution_count": null,
   "metadata": {},
   "outputs": [],
   "source": [
    "\n",
    "test_df = pd.DataFrame(clear_db)\n",
    "test_df[\"DATA_TRAFFIC_MONTH_1\"] = StandardScaler().fit_transform(test_df[['DATA_TRAFFIC_MONTH_1']])\n",
    "display(test_df['DATA_TRAFFIC_MONTH_1'])\n",
    "test_df['DATA_TRAFFIC_MONTH_1'].describe()"
   ]
  },
  {
   "cell_type": "code",
   "execution_count": null,
   "metadata": {},
   "outputs": [],
   "source": [
    "sns.histplot(data= test_df, x=\"DATA_TRAFFIC_MONTH_1\", kde=False, alpha=0.7, label=var)\n",
    "# Adding labels and title\n",
    "plt.xlabel('DATA_TRAFFIC_MONTH_1')\n",
    "plt.ylabel('Frequency')\n",
    "plt.title('Histogram')\n",
    "# Adding legend\n",
    "plt.legend()\n",
    "# Showing plot\n",
    "plt.show()\n",
    "\n"
   ]
  },
  {
   "cell_type": "code",
   "execution_count": null,
   "metadata": {},
   "outputs": [],
   "source": [
    "test_df[\"DATA_TRAFFIC_MONTH_1\"] = MinMaxScaler().fit_transform(test_df[[\"DATA_TRAFFIC_MONTH_1\"]])\n",
    "display(test_df['DATA_TRAFFIC_MONTH_1'])\n",
    "test_df[\"DATA_TRAFFIC_MONTH_1\"].describe()\n",
    "sns.histplot(data= test_df, x=\"DATA_TRAFFIC_MONTH_1\", kde=False, alpha=0.7, label=var)\n",
    "# Adding labels and title\n",
    "plt.xlabel('DATA_TRAFFIC_MONTH_1')\n",
    "plt.ylabel('Frequency')\n",
    "plt.title('Histogram')\n",
    "# Adding legend\n",
    "plt.legend()\n",
    "# Showing plot\n",
    "plt.show()\n"
   ]
  },
  {
   "cell_type": "markdown",
   "metadata": {},
   "source": [
    "# 2.5"
   ]
  },
  {
   "cell_type": "code",
   "execution_count": null,
   "metadata": {},
   "outputs": [],
   "source": [
    "brand_int = pd.DataFrame(clear_db, columns = [\"PREVIOUS_DEVICE_BRAND\"])\n",
    "brand_int[\"brand_encoded\"] = LabelEncoder().fit_transform(brand_int['PREVIOUS_DEVICE_BRAND'])\n",
    "display(brand_int)"
   ]
  },
  {
   "cell_type": "code",
   "execution_count": null,
   "metadata": {},
   "outputs": [],
   "source": [
    "manuf_bin = pd.DataFrame(clear_db, columns = [\"PREVIOUS_DEVICE_MANUF\"])\n",
    "manuf_bin[\"PREVIOUS_DEVICE_MANUF_BIN\"]= LabelEncoder().fit_transform(manuf_bin['PREVIOUS_DEVICE_MANUF'])\n",
    "display(manuf_bin)"
   ]
  },
  {
   "cell_type": "markdown",
   "metadata": {},
   "source": [
    "# 2.7\n"
   ]
  },
  {
   "cell_type": "code",
   "execution_count": null,
   "metadata": {},
   "outputs": [],
   "source": [
    "\n",
    "text_parsing_df = pd.DataFrame(clear_db)\n",
    "text_parsing_df = test_df['PURCHASED_DEVICE'].str.split('_', expand=True)\n",
    "print(text_parsing_df)\n",
    "\n"
   ]
  },
  {
   "cell_type": "markdown",
   "metadata": {},
   "source": [
    "# 2.8"
   ]
  },
  {
   "cell_type": "code",
   "execution_count": null,
   "metadata": {},
   "outputs": [],
   "source": [
    "train_df, test_df = train_test_split(clear_db, test_size=0.3, random_state=42)\n",
    "train_df.info()\n",
    "test_df.info()\n"
   ]
  },
  {
   "cell_type": "markdown",
   "metadata": {},
   "source": [
    "# 3. Comparing iPhone and Samunsung J series users"
   ]
  },
  {
   "cell_type": "markdown",
   "metadata": {},
   "source": [
    "I am going to study the differences between Iphone and Samsung J series users. First I will create two different dataframes, one with all the rows from iPhone users and the other one with all the rows of J series users. First I am going to decide which rows should be dropped in case of having NaN values.\n",
    "\n",
    "<font size=\"1\" color=\"gray\"></font>"
   ]
  },
  {
   "cell_type": "code",
   "execution_count": null,
   "metadata": {},
   "outputs": [],
   "source": [
    "#We upload the database\n",
    "database = pd.read_csv(\"device_db.csv\", sep=\",\")"
   ]
  },
  {
   "cell_type": "markdown",
   "metadata": {},
   "source": [
    "If there is no data in \"PURCHASED_DEVICE\" or \"DEVICE_VALUE\" we remove those cells. If \"DATA_TRAFFIC_MONTH_(1..6)\", \"VOICE_TRAFFIC_MONTH_(1..6)\", \"BILLING_MONTH_(1..6)\", or \"DEVICE_COST_MONTH_(1..6)\" have NaN values we will consider them to be 0.\n",
    "<font size=\"1\" color=\"white\"></font>"
   ]
  },
  {
   "cell_type": "code",
   "execution_count": null,
   "metadata": {},
   "outputs": [],
   "source": [
    "#Now i will drop and fill the rows just explained.\n",
    "data_traffic = [col for col in clear_db.columns if (\"DATA_TRAFFIC\" in col) ]\n",
    "voice_traffic = [col for col in clear_db.columns if (\"VOICE_TRAFFIC\" in col) ]\n",
    "billing_month = [col for col in clear_db.columns if (\"BILLING_MONTH\" in col) ]\n",
    "device_cost = [col for col in clear_db.columns if (\"DEVICE_COST\" in col) ]\n",
    "columns_to_clear = data_traffic + voice_traffic + billing_month + device_cost\n",
    "\n",
    "clear_db = database\n",
    "\n",
    "for col in database.columns:\n",
    "    if col in columns_to_clear: \n",
    "        clear_db[col] = clear_db[col].fillna(0)\n",
    "\n",
    "clear_db = clear_db.dropna(subset=['PURCHASED_DEVICE','DEVICE_VALUE'])\n",
    "database = clear_db"
   ]
  },
  {
   "cell_type": "markdown",
   "metadata": {},
   "source": [
    "Now that we have cleared the database I want to filter it into two databases. One for J series Samsung users and the other for iPhone users. Using the variable \"PURCHASED_DEVICE\" I am creating a function in order to transform the categorical value into a numerical one.\n",
    "<font size=\"1\" color=\"white\"></font>"
   ]
  },
  {
   "cell_type": "code",
   "execution_count": null,
   "metadata": {},
   "outputs": [],
   "source": [
    "def extract_brand(device_name):\n",
    "    # Splitting the string by underscore\n",
    "    parts = device_name.split('_')\n",
    "    # Checking if the second part contains \"Samsung\" or \"iPhone\"\n",
    "    if len(parts) > 1:\n",
    "        if \"SAMSUNG\" in parts[1]:\n",
    "            return 1\n",
    "        elif \"APPLE\" in parts[1]:\n",
    "            return 2\n",
    "        else: return 0"
   ]
  },
  {
   "cell_type": "markdown",
   "metadata": {},
   "source": [
    "I add a column to the dataframe with the numerical version of \"PURCHASED_DEVICE\".\n",
    "<font size=\"1\" color=\"black\"></font>"
   ]
  },
  {
   "cell_type": "code",
   "execution_count": null,
   "metadata": {},
   "outputs": [],
   "source": [
    "brand_code = []\n",
    "for name in database[\"PURCHASED_DEVICE\"]:\n",
    "    #print(name)\n",
    "    brand = extract_brand(str(name))\n",
    "    brand_code.append(brand)\n",
    "\n",
    "database[\"brand_code\"] = brand_code\n",
    "database[\"brand_code\"] \n"
   ]
  },
  {
   "cell_type": "markdown",
   "metadata": {},
   "source": [
    "If the brand code of the row is 1 we add the row to the samsung users dataframe, and if it has a 2 to the Apple user dataframe.\n"
   ]
  },
  {
   "cell_type": "code",
   "execution_count": null,
   "metadata": {},
   "outputs": [],
   "source": [
    "samsung_users =pd.DataFrame(columns=database.columns)\n",
    "apple_users =pd.DataFrame(columns=database.columns)\n",
    "samsung_users = database[database[\"brand_code\"] == 1]\n",
    "apple_users = database[database[\"brand_code\"] == 2]"
   ]
  },
  {
   "cell_type": "markdown",
   "metadata": {},
   "source": [
    "Now that we have samsung and apple users separated we can proceed to compare their data. I will 2 different topics to compare them between the 2 groups. I will make a device analysis using 'DEVICE_VALUE' and 'DEVICE_COST_MONTH_,  and a Traffic_analysis using DATA_TRAFFIC_MONTH_1'. I will compare their distributions and descriptive statistics and make data visualtization.\n"
   ]
  }
 ],
 "metadata": {
  "kernelspec": {
   "display_name": "Python 3",
   "language": "python",
   "name": "python3"
  },
  "language_info": {
   "codemirror_mode": {
    "name": "ipython",
    "version": 3
   },
   "file_extension": ".py",
   "mimetype": "text/x-python",
   "name": "python",
   "nbconvert_exporter": "python",
   "pygments_lexer": "ipython3",
   "version": "3.10.11"
  }
 },
 "nbformat": 4,
 "nbformat_minor": 2
}
