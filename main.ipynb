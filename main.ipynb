{
 "cells": [
  {
   "cell_type": "markdown",
   "metadata": {},
   "source": [
    "# Comparing iPhone and Samunsung J series users"
   ]
  },
  {
   "cell_type": "code",
   "execution_count": 35,
   "metadata": {},
   "outputs": [],
   "source": [
    "import pandas as pd\n",
    "import numpy as np\n",
    "import seaborn as sns\n",
    "import matplotlib.pyplot as plt\n",
    "import datetime\n",
    "import sklearn\n",
    "\n",
    "from matplotlib import pyplot\n",
    "from sklearn.preprocessing import StandardScaler\n",
    "from sklearn.preprocessing import Normalizer\n",
    "from sklearn.preprocessing import MinMaxScaler\n",
    "from numpy import array\n",
    "from numpy import argmax\n",
    "from sklearn.preprocessing import LabelEncoder\n",
    "from sklearn.preprocessing import OneHotEncoder\n",
    "from sklearn.model_selection import train_test_split\n",
    "\n"
   ]
  },
  {
   "cell_type": "markdown",
   "metadata": {},
   "source": [
    "I am going to study the differences between Iphone and Samsung J series users. First I will create two different dataframes, one with all the rows from iPhone users and the other one with all the rows of J series users. First I am going to decide which rows should be dropped in case of having NaN values.\n",
    "\n",
    "<font size=\"1\" color=\"gray\"></font>"
   ]
  },
  {
   "cell_type": "code",
   "execution_count": 36,
   "metadata": {},
   "outputs": [],
   "source": [
    "#We upload the database\n",
    "database = pd.read_csv(\"device_db.csv\", sep=\",\")"
   ]
  },
  {
   "cell_type": "markdown",
   "metadata": {},
   "source": [
    "If there is no data in \"PURCHASED_DEVICE\" or \"DEVICE_VALUE\" we remove those cells. If \"DATA_TRAFFIC_MONTH_(1..6)\", \"VOICE_TRAFFIC_MONTH_(1..6)\", \"BILLING_MONTH_(1..6)\", or \"DEVICE_COST_MONTH_(1..6)\" have NaN values we will consider them to be 0.\n",
    "<font size=\"1\" color=\"white\"></font>"
   ]
  },
  {
   "cell_type": "code",
   "execution_count": 37,
   "metadata": {},
   "outputs": [],
   "source": [
    "#Now i will drop and fill the rows just explained.\n",
    "data_traffic = [col for col in clear_db.columns if (\"DATA_TRAFFIC\" in col) ]\n",
    "voice_traffic = [col for col in clear_db.columns if (\"VOICE_TRAFFIC\" in col) ]\n",
    "billing_month = [col for col in clear_db.columns if (\"BILLING_MONTH\" in col) ]\n",
    "device_cost = [col for col in clear_db.columns if (\"DEVICE_COST\" in col) ]\n",
    "columns_to_clear = data_traffic + voice_traffic + billing_month + device_cost\n",
    "\n",
    "clear_db = database\n",
    "\n",
    "for col in database.columns:\n",
    "    if col in columns_to_clear: \n",
    "        clear_db[col] = clear_db[col].fillna(0)\n",
    "\n",
    "clear_db = clear_db.dropna(subset=['PURCHASED_DEVICE','DEVICE_VALUE'])\n",
    "database = clear_db"
   ]
  },
  {
   "cell_type": "markdown",
   "metadata": {},
   "source": [
    "Now that we have cleared the database I want to filter it into two databases. One for J series Samsung users and the other for iPhone users. Using the variable \"PURCHASED_DEVICE\" I am creating a function in order to transform the categorical value into a numerical one.\n",
    "<font size=\"1\" color=\"white\"></font>"
   ]
  },
  {
   "cell_type": "code",
   "execution_count": 38,
   "metadata": {},
   "outputs": [],
   "source": [
    "def extract_brand(device_name):\n",
    "    # Splitting the string by underscore\n",
    "    parts = device_name.split('_')\n",
    "    # Checking if the second part contains \"Samsung\" or \"iPhone\"\n",
    "    if len(parts) > 1:\n",
    "        if \"SAMSUNG\" in parts[1]:\n",
    "            return 1\n",
    "        elif \"APPLE\" in parts[1]:\n",
    "            return 2\n",
    "        else: return 0"
   ]
  },
  {
   "cell_type": "markdown",
   "metadata": {},
   "source": [
    "I add a column to the dataframe with the numerical version of \"PURCHASED_DEVICE\".\n",
    "<font size=\"1\" color=\"black\"></font>"
   ]
  },
  {
   "cell_type": "code",
   "execution_count": 39,
   "metadata": {},
   "outputs": [
    {
     "data": {
      "text/plain": [
       "0       0\n",
       "1       0\n",
       "2       0\n",
       "3       0\n",
       "4       0\n",
       "       ..\n",
       "9995    0\n",
       "9996    0\n",
       "9997    0\n",
       "9998    0\n",
       "9999    0\n",
       "Name: brand_code, Length: 9690, dtype: int64"
      ]
     },
     "execution_count": 39,
     "metadata": {},
     "output_type": "execute_result"
    }
   ],
   "source": [
    "brand_code = []\n",
    "for name in database[\"PURCHASED_DEVICE\"]:\n",
    "    #print(name)\n",
    "    brand = extract_brand(str(name))\n",
    "    brand_code.append(brand)\n",
    " "
   ]
  },
  {
   "cell_type": "markdown",
   "metadata": {},
   "source": [
    "If the brand code of the row is 1 we add the row to the samsung users dataframe, and if it has a 2 to the Apple user dataframe.\n"
   ]
  },
  {
   "cell_type": "code",
   "execution_count": 40,
   "metadata": {},
   "outputs": [],
   "source": [
    "samsung_users =pd.DataFrame(columns=database.columns)\n",
    "apple_users =pd.DataFrame(columns=database.columns)\n",
    "samsung_users = database[database[\"brand_code\"] == 1]\n",
    "apple_users = database[database[\"brand_code\"] == 2]"
   ]
  },
  {
   "cell_type": "markdown",
   "metadata": {},
   "source": [
    "Now that we have samsung and apple users separated we can proceed to compare their data. I will 2 different topics to compare them between the 2 groups. I will make a device analysis using 'DEVICE_VALUE' and 'DEVICE_COST_MONTH_,  and a Traffic_analysis using DATA_TRAFFIC_MONTH_1'. I will compare their distributions and descriptive statistics and make data visualtization.\n"
   ]
  }
 ],
 "metadata": {
  "kernelspec": {
   "display_name": "Python 3",
   "language": "python",
   "name": "python3"
  },
  "language_info": {
   "codemirror_mode": {
    "name": "ipython",
    "version": 3
   },
   "file_extension": ".py",
   "mimetype": "text/x-python",
   "name": "python",
   "nbconvert_exporter": "python",
   "pygments_lexer": "ipython3",
   "version": "3.10.11"
  }
 },
 "nbformat": 4,
 "nbformat_minor": 2
}
